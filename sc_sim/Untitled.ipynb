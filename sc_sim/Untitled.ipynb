{
 "cells": [
  {
   "cell_type": "code",
   "execution_count": 2,
   "metadata": {},
   "outputs": [
    {
     "ename": "ModuleNotFoundError",
     "evalue": "No module named 'sc_sim'",
     "output_type": "error",
     "traceback": [
      "\u001b[0;31m---------------------------------------------------------------------------\u001b[0m",
      "\u001b[0;31mModuleNotFoundError\u001b[0m                       Traceback (most recent call last)",
      "\u001b[0;32m<ipython-input-2-92230a9b0f8f>\u001b[0m in \u001b[0;36m<module>\u001b[0;34m\u001b[0m\n\u001b[0;32m----> 1\u001b[0;31m \u001b[0;32mfrom\u001b[0m \u001b[0msc_sim\u001b[0m\u001b[0;34m.\u001b[0m\u001b[0msimulation\u001b[0m \u001b[0;32mimport\u001b[0m \u001b[0mItem\u001b[0m\u001b[0;34m,\u001b[0m \u001b[0mItemSimulatorGym\u001b[0m\u001b[0;34m,\u001b[0m \u001b[0mrun_bowersox_baseline\u001b[0m\u001b[0;34m\u001b[0m\u001b[0;34m\u001b[0m\u001b[0m\n\u001b[0m\u001b[1;32m      2\u001b[0m \u001b[0;34m\u001b[0m\u001b[0m\n\u001b[1;32m      3\u001b[0m \u001b[0;32mfrom\u001b[0m \u001b[0mbaselines\u001b[0m\u001b[0;34m.\u001b[0m\u001b[0mppo2\u001b[0m \u001b[0;32mimport\u001b[0m \u001b[0mppo2\u001b[0m\u001b[0;34m\u001b[0m\u001b[0;34m\u001b[0m\u001b[0m\n\u001b[1;32m      4\u001b[0m \u001b[0;32mfrom\u001b[0m \u001b[0mbaselines\u001b[0m\u001b[0;34m.\u001b[0m\u001b[0mcommon\u001b[0m\u001b[0;34m.\u001b[0m\u001b[0mvec_env\u001b[0m\u001b[0;34m.\u001b[0m\u001b[0mdummy_vec_env\u001b[0m \u001b[0;32mimport\u001b[0m \u001b[0mDummyVecEnv\u001b[0m\u001b[0;34m\u001b[0m\u001b[0;34m\u001b[0m\u001b[0m\n\u001b[1;32m      5\u001b[0m \u001b[0;32mfrom\u001b[0m \u001b[0mbaselines\u001b[0m \u001b[0;32mimport\u001b[0m \u001b[0mlogger\u001b[0m\u001b[0;34m\u001b[0m\u001b[0;34m\u001b[0m\u001b[0m\n",
      "\u001b[0;31mModuleNotFoundError\u001b[0m: No module named 'sc_sim'"
     ]
    }
   ],
   "source": [
    "from sc_sim.simulation import Item, ItemSimulatorGym, run_bowersox_baseline\n",
    "\n",
    "from baselines.ppo2 import ppo2\n",
    "from baselines.common.vec_env.dummy_vec_env import DummyVecEnv\n",
    "from baselines import logger\n",
    "import gym\n",
    "from gym import spaces\n",
    "import numpy as np\n"
   ]
  },
  {
   "cell_type": "code",
   "execution_count": 4,
   "metadata": {},
   "outputs": [
    {
     "data": {
      "text/plain": [
       "'/home/zack/PycharmProjects/sc-sim/sc_sim'"
      ]
     },
     "execution_count": 4,
     "metadata": {},
     "output_type": "execute_result"
    }
   ],
   "source": [
    "import os\n",
    "os.getcwd()"
   ]
  },
  {
   "cell_type": "code",
   "execution_count": null,
   "metadata": {},
   "outputs": [],
   "source": [
    "def build_env(): #no args because of the way DummyVecEnv works\n",
    "    item = Item(item_config)\n",
    "    env = ItemSimulatorGym(item)\n",
    "    return env\n",
    "\n",
    "def configure_logger(log_path, **kwargs):\n",
    "    if log_path is not None:\n",
    "        logger.configure(log_path)\n",
    "    else:\n",
    "        logger.configure(**kwargs)"
   ]
  },
  {
   "cell_type": "code",
   "execution_count": null,
   "metadata": {},
   "outputs": [],
   "source": [
    "\n",
    "    num_timesteps = 1000000\n",
    "\n",
    "    inventory_cost = .1\n",
    "    balance = 200\n",
    "    order_cost = 0\n",
    "    on_order = [0, 0, 0, 0, 0]\n",
    "    item_config = dict(store=None, price=10, cost=5, alpha=2, beta=5, scale=10,\n",
    "                       inventory=0, on_order=on_order, carrying_cost=inventory_cost, balance=balance,\n",
    "                       order_cost=order_cost)\n",
    "    log_path = 'logs/sc_sim'\n",
    "\n",
    "    configure_logger(log_path)\n",
    "\n",
    "    env = DummyVecEnv([build_env])\n",
    "    model = ppo2.learn(\n",
    "        network='mlp',\n",
    "        env=env,\n",
    "        total_timesteps=num_timesteps,\n",
    "        load_path= 'models/sc_sim'\n",
    "        )\n",
    "    model.save('models/sc_sim')\n"
   ]
  },
  {
   "cell_type": "code",
   "execution_count": null,
   "metadata": {},
   "outputs": [],
   "source": [
    "    env = ItemSimulatorGym(item_config=item_config)\n",
    "    actions, obs, rewards, dones, infos, epinfos = run_bowersox_baseline(env, 100)\n",
    "    avg_reward = sum([x['r'] for x in epinfos])/len(epinfos)\n",
    "    print(np.mean(avg_reward))"
   ]
  }
 ],
 "metadata": {
  "kernelspec": {
   "display_name": "Python 3",
   "language": "python",
   "name": "python3"
  },
  "language_info": {
   "codemirror_mode": {
    "name": "ipython",
    "version": 3
   },
   "file_extension": ".py",
   "mimetype": "text/x-python",
   "name": "python",
   "nbconvert_exporter": "python",
   "pygments_lexer": "ipython3",
   "version": "3.7.6"
  }
 },
 "nbformat": 4,
 "nbformat_minor": 4
}
